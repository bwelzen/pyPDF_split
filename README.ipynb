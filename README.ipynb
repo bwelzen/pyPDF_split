{
 "cells": [
  {
   "cell_type": "markdown",
   "metadata": {},
   "source": [
    "# pyPDF_split\n",
    "Split PDFs with multiple student records into individual PDFs.\n",
    "\n",
    "pyPDF_split searches a PDF for the string `StudentID:NNNNNNN` and splits the PDF into individual PDFs in a sub-folder with the StudentID embedded in the new file name.\n",
    "\n",
    "pyPDF_split pairs nicely with the [insertFiles](https://github.com/txoof/insertFiles) and [create_folders](https://github.com/txoof/portfolioCreator) scripts.\n",
    "\n",
    "Contact Information:\n",
    "aaron.ciuffo@gmail.com\n",
    "\n",
    "\n",
    "## Quick Start\n",
    "**NOTE:** If this is the first time you've run this program, please see the [full instructions](#FullInstructions) below.\n",
    "1. Launch the \n",
    "\n",
    "\n",
    "<a name='FullInstructions'></a>\n",
    "## Full Instructions\n",
    "1. Download pyPDF_split [here] ADD URL\n",
    "2. Locate the downloaded file in the Downloads folder\n",
    "3. Double click on the `.tgz` file to decompress it\n",
    "4. Move the `py_pdfsplit` file into your `Applications` folder\n",
    "5. Locate the `py_pdfsplit` file in your `Applications` folder and right click (or Ctrl+click) and choose `Open`\n",
    "6. "
   ]
  },
  {
   "attachments": {},
   "cell_type": "markdown",
   "metadata": {},
   "source": []
  },
  {
   "cell_type": "code",
   "execution_count": 7,
   "metadata": {},
   "outputs": [
    {
     "name": "stdout",
     "output_type": "stream",
     "text": [
      "[NbConvertApp] Converting notebook README.ipynb to markdown\n",
      "[NbConvertApp] Writing 901 bytes to README.md\n"
     ]
    }
   ],
   "source": [
    "!jupyter-nbconvert --to markdown README.ipynb"
   ]
  }
 ],
 "metadata": {
  "kernelspec": {
   "display_name": "Python 3",
   "language": "python",
   "name": "python3"
  },
  "language_info": {
   "codemirror_mode": {
    "name": "ipython",
    "version": 3
   },
   "file_extension": ".py",
   "mimetype": "text/x-python",
   "name": "python",
   "nbconvert_exporter": "python",
   "pygments_lexer": "ipython3",
   "version": "3.8.5"
  }
 },
 "nbformat": 4,
 "nbformat_minor": 4
}
