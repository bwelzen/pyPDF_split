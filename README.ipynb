{
 "cells": [
  {
   "cell_type": "markdown",
   "metadata": {},
   "source": [
    "# pyPDF_split\n",
    "Split PDFs with multiple student records into individual PDFs.\n",
    "\n",
    "pyPDF_split searches a PDF for the string `StudentID:NNNNNNN` and splits the PDF into individual PDFs in a sub-folder with the StudentID embedded in the new file name.\n",
    "\n",
    "pyPDF_split pairs nicely with the [insertFiles](https://github.com/txoof/insertFiles) and [create_folders](https://github.com/txoof/portfolioCreator) scripts.\n",
    "\n",
    "Contact Information:\n",
    "aaron.ciuffo@gmail.com\n",
    "\n",
    "\n",
    "## Quick Start\n",
    "**NOTE:** If this is the first time you've run this program, please see the [full instructions](#FullInstructions) below.\n",
    "1. Launch the `py_pdfsplit` application from your `Applications` folder by double clicking on it.\n",
    "2. When prompted, locate a PDF that needs to be split by clicking on the `Browse` button -- this will launch a Finder window allowing you find and choose a single PDF file\n",
    "    ![GUI Browse Image](./docs/gui_browse.png)\n",
    "3. Click `Ok` when ready\n",
    "4. pyPDF_split will split the PDF into a sub-folder within the same folder as the original pdf:\n",
    "    ![Output folder with split pdfs](./docs/output_split.png)\n",
    "5. Split another PDF by clicking `Browse` or `Cancel` to quit\n",
    "\n",
    "<a name='FullInstructions'></a>\n",
    "## Full Instructions\n",
    "1. Download pyPDF_split [here] ADD URL\n",
    "2. Locate the downloaded file in the Downloads folder\n",
    "3. Double click on the `.tgz` file to decompress it\n",
    "4. Move the `py_pdfsplit` file into your `Applications` folder\n",
    "    * **NOTE:** if you simply double click on the application, you will likely see this warning:\n",
    "    ![Unidentified Developer Warning](./docs/unidentified_devel.png)\n",
    "    * Continue to step 5!\n",
    "5. Locate the `py_pdfsplit` file in your `Applications` folder and right click (or Ctrl+click) and choose `Open`\n",
    "    * You will see the following prompt:\n",
    "    ![Open program from unidentified developer](./docs/open_unidentified.png)\n",
    "    * Click `Open`\n",
    "    * It may take several seconds, but the application and a terminal window will open.\n",
    "2. When prompted, locate a PDF that needs to be split by clicking on the `Browse` button -- this will launch a Finder window allowing you find and choose a single PDF file\n",
    "    ![GUI Browse Image](./docs/gui_browse.png)\n",
    "3. Click `Ok` when ready\n",
    "4. pyPDF_split will split the PDF into a sub-folder within the same folder as the original pdf:\n",
    "    ![Output folder with split pdfs](./docs/output_split.png)\n",
    "5. Split another PDF by clicking `Browse` or `Cancel` to quit\n",
    "\n",
    "## Building pyPDF_Split\n",
    "Build this script in a pyenv/pipenv with TK built in.\n",
    "1. See [this Gist](https://gist.github.com/txoof/675e72d43f1bfbade04fdcec99ff4085) for complete instructions for setting up a working pyenv with TK, pipenv and Jupyter\n",
    "2. Set up a Python 3+ jupyter kernel for further editing from within this repo directory:\n",
    "```\n",
    "$ pipenv --3 install ipykernel\n",
    "$ projectName=$(basename `pipenv --venv`)\n",
    "$ pipenv run python -m ipykernel install --user --name=\"${projectName}\"\n",
    "```\n",
    "3. Make any edits needed and then rebuild the program with:\n",
    "```\n",
    "$ ./build.sh\n",
    "```"
   ]
  },
  {
   "cell_type": "code",
   "execution_count": 7,
   "metadata": {},
   "outputs": [
    {
     "name": "stdout",
     "output_type": "stream",
     "text": [
      "[NbConvertApp] Converting notebook README.ipynb to markdown\n",
      "[NbConvertApp] Writing 901 bytes to README.md\n"
     ]
    }
   ],
   "source": [
    "!jupyter-nbconvert --to markdown README.ipynb"
   ]
  }
 ],
 "metadata": {
  "kernelspec": {
   "display_name": "Python 3",
   "language": "python",
   "name": "python3"
  },
  "language_info": {
   "codemirror_mode": {
    "name": "ipython",
    "version": 3
   },
   "file_extension": ".py",
   "mimetype": "text/x-python",
   "name": "python",
   "nbconvert_exporter": "python",
   "pygments_lexer": "ipython3",
   "version": "3.8.5"
  }
 },
 "nbformat": 4,
 "nbformat_minor": 4
}
