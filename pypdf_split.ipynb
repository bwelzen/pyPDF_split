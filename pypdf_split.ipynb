{
 "cells": [
  {
   "cell_type": "code",
   "execution_count": 81,
   "metadata": {},
   "outputs": [],
   "source": [
    "import PyPDF2\n",
    "from pathlib import Path\n",
    "import re"
   ]
  },
  {
   "cell_type": "markdown",
   "metadata": {},
   "source": [
    "# TO DO\n",
    "* [ ] wrap **everything** in a `try`\n",
    "* [ ] add gui\n",
    "* [ ] test against MAP results\n",
    "* [ ] add original filename to output\n",
    "* [ ] pyinstaller"
   ]
  },
  {
   "cell_type": "code",
   "execution_count": 82,
   "metadata": {},
   "outputs": [],
   "source": [
    "f = \"./data/RC_Gr2_S1_2019-20.pdf\"\n",
    "pdf = PyPDF2.PdfFileReader(f, False)\n",
    "breaks = []\n",
    "last_record = {'id': None, 'pages': []}\n",
    "for p in range(0, pdf.numPages):\n",
    "    this_record = {'id': None, 'pages': []}\n",
    "    text = pdf.getPage(p).extractText()\n",
    "    match = re.search('student\\W?id:\\W?(\\d{5,})', text, re.IGNORECASE)\n",
    "    name = re.search('^student:\\W(.*)$', text, re.IGNORECASE)\n",
    "    if match:\n",
    "        breaks.append(last_record)\n",
    "        this_record['id'] = match.group(1)\n",
    "        this_record['pages'].append(p)\n",
    "        last_record = this_record\n",
    "    else:\n",
    "        last_record['pages'].append(p)"
   ]
  },
  {
   "cell_type": "code",
   "execution_count": 79,
   "metadata": {},
   "outputs": [],
   "source": [
    "for record in breaks:\n",
    "    new_pdf = None\n",
    "    if record['id']:\n",
    "        new_pdf = PyPDF2.PdfFileWriter()\n",
    "        for p in record['pages']:\n",
    "            new_pdf.addPage(pdf.getPage(p))\n",
    "        \n",
    "        with open(Path(f'./data/{record[\"id\"]}.pdf'), \"wb\") as new_file:\n",
    "            new_pdf.write(new_file)\n",
    "            "
   ]
  }
 ],
 "metadata": {
  "kernelspec": {
   "display_name": "pyPDF-OZ07WWTJ",
   "language": "python",
   "name": "pypdf-oz07wwtj"
  },
  "language_info": {
   "codemirror_mode": {
    "name": "ipython",
    "version": 3
   },
   "file_extension": ".py",
   "mimetype": "text/x-python",
   "name": "python",
   "nbconvert_exporter": "python",
   "pygments_lexer": "ipython3",
   "version": "3.8.5"
  }
 },
 "nbformat": 4,
 "nbformat_minor": 4
}
