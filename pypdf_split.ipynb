{
 "cells": [
  {
   "cell_type": "code",
   "execution_count": 2,
   "metadata": {},
   "outputs": [],
   "source": [
    "import PyPDF2\n",
    "import PySimpleGUI as sg\n",
    "from pathlib import Path\n",
    "import logging\n",
    "import re\n",
    "import sys, getopt\n"
   ]
  },
  {
   "cell_type": "markdown",
   "metadata": {},
   "source": [
    "# TO DO\n",
    "* [x] wrap **everything** in a `try`\n",
    "* [ ] add gui\n",
    "* [ ] test against MAP results\n",
    "* [x] add original filename to output\n",
    "* [ ] pyinstaller"
   ]
  },
  {
   "cell_type": "code",
   "execution_count": 3,
   "metadata": {},
   "outputs": [],
   "source": [
    "def get_breaks(file):\n",
    "    file = Path(file).expanduser().absolute()\n",
    "    \n",
    "    try:\n",
    "        source_pdf = PyPDF2.PdfFileReader(str(file), False)\n",
    "    except (FileNotFoundError, PyPDF2.utils.PdfReadError, IsADirectoryError) as e:\n",
    "        logging.error(f'Failed to read source pdf: {e}')\n",
    "        return []\n",
    "    \n",
    "    page_breaks = []\n",
    "    \n",
    "    last_record = {'id': None, 'pages': []}\n",
    "    \n",
    "    for page in range(0, source_pdf.numPages):\n",
    "        this_record = ({'id': None, 'pages': []})\n",
    "        text = source_pdf.getPage(page).extractText()\n",
    "        student_number = re.search('student\\W?id:\\W?(\\d{5,})', text, re.IGNORECASE)\n",
    "        \n",
    "        if student_number:\n",
    "            page_breaks.append(last_record)\n",
    "            this_record['id'] = student_number.group(1)\n",
    "            this_record['pages'].append(page)\n",
    "            last_record = this_record\n",
    "            \n",
    "        else:\n",
    "            last_record['pages'].append(page)\n",
    "            \n",
    "    return page_breaks\n",
    "            \n",
    "        "
   ]
  },
  {
   "cell_type": "code",
   "execution_count": 4,
   "metadata": {},
   "outputs": [],
   "source": [
    "def split_pdf(file, page_breaks):\n",
    "    file = Path(file).expanduser().absolute()\n",
    "    dest_path = file.parent/f'{file.name}_split'\n",
    "    \n",
    "    output = {}\n",
    "    \n",
    "    try:\n",
    "        source_pdf = PyPDF2.PdfFileReader(str(file))\n",
    "    except (FileNotFoundError, PyPDF2.utils.PdfReadError, IsADirectoryError) as e:\n",
    "        logging.error(f'Failed to split source pdf: {e}')\n",
    "        return False\n",
    "    \n",
    "    for record in page_breaks:\n",
    "        output_path = 'Failed'\n",
    "        if not record['id']:\n",
    "            continue\n",
    "        pdf_writer = PyPDF2.PdfFileWriter()\n",
    "        for page in record['pages']:\n",
    "            try:\n",
    "                pdf_writer.addPage(source_pdf.getPage(page))\n",
    "            except Exception as e:\n",
    "                logging.error(f'failed to add page: \"{page}\" for record: \"{record}\" error: {e}')\n",
    "                \n",
    "            \n",
    "        \n",
    "        try:\n",
    "            output_path = dest_path/f'{record[\"id\"]}.pdf'\n",
    "            output_path.parent.mkdir(exist_ok=True)\n",
    "            with open(str(output_path), \"wb\") as dest_file:\n",
    "                pdf_writer.write(dest_file)\n",
    "\n",
    "        except Exception as e:\n",
    "            logging.error(f'error outputing pdf: {e}')\n",
    "            output_path = f'Failed outputing pdf: {e}'\n",
    "            pass\n",
    "        finally:\n",
    "            output[record['id']] = output_path\n",
    "    return output\n",
    "\n"
   ]
  },
  {
   "cell_type": "code",
   "execution_count": 10,
   "metadata": {},
   "outputs": [],
   "source": [
    "def main():\n",
    "    logger = logging.getLogger()\n",
    "    logger.setLevel(logging.DEBUG)\n",
    "    interactive = False\n",
    "    \n",
    "    if (len(sys.argv) == 1) or ('-f' in sys.argv):\n",
    "        interactive = True\n",
    "     \n",
    "    else:\n",
    "        fname = sys.argv[1]\n",
    "\n",
    "    while interactive:\n",
    "        logging.debug('prompt user for PDF file')\n",
    "        fname = sg.popup_get_file('Choose a PDF to split -- \"Cancel\" to quit')\n",
    "        logging.debug(f'fname returned: {fname}')\n",
    "        if fname in [None, ]:\n",
    "            logging.info('user canceled')\n",
    "            break\n",
    "        if fname:\n",
    "            breaks = get_breaks(fname)\n",
    "            output = split_pdf(fname, breaks)\n",
    "            \n",
    "        if output:\n",
    "            ## add a popup that summarizes what was done\n",
    "            print(output)\n",
    "        else:\n",
    "            sg.popup('Cancel', \"No PDF supplied\")\n"
   ]
  },
  {
   "cell_type": "code",
   "execution_count": 12,
   "metadata": {},
   "outputs": [
    {
     "name": "stderr",
     "output_type": "stream",
     "text": [
      "DEBUG:root:prompt user for PDF file\n",
      "DEBUG:root:fname returned: /Users/aciuffo/Documents/src/pyPDF_split/data/UE_Semester2_ReportCard_2019-2020_Gr3.pdf\n",
      "DEBUG:root:prompt user for PDF file\n"
     ]
    },
    {
     "name": "stdout",
     "output_type": "stream",
     "text": [
      "{'505341': PosixPath('/Users/aciuffo/Documents/src/pyPDF_split/data/UE_Semester2_ReportCard_2019-2020_Gr3.pdf_split/505341.pdf'), '505464': PosixPath('/Users/aciuffo/Documents/src/pyPDF_split/data/UE_Semester2_ReportCard_2019-2020_Gr3.pdf_split/505464.pdf'), '504864': PosixPath('/Users/aciuffo/Documents/src/pyPDF_split/data/UE_Semester2_ReportCard_2019-2020_Gr3.pdf_split/504864.pdf'), '505557': PosixPath('/Users/aciuffo/Documents/src/pyPDF_split/data/UE_Semester2_ReportCard_2019-2020_Gr3.pdf_split/505557.pdf'), '503509': PosixPath('/Users/aciuffo/Documents/src/pyPDF_split/data/UE_Semester2_ReportCard_2019-2020_Gr3.pdf_split/503509.pdf'), '503845': PosixPath('/Users/aciuffo/Documents/src/pyPDF_split/data/UE_Semester2_ReportCard_2019-2020_Gr3.pdf_split/503845.pdf'), '504450': PosixPath('/Users/aciuffo/Documents/src/pyPDF_split/data/UE_Semester2_ReportCard_2019-2020_Gr3.pdf_split/504450.pdf'), '503835': PosixPath('/Users/aciuffo/Documents/src/pyPDF_split/data/UE_Semester2_ReportCard_2019-2020_Gr3.pdf_split/503835.pdf'), '503855': PosixPath('/Users/aciuffo/Documents/src/pyPDF_split/data/UE_Semester2_ReportCard_2019-2020_Gr3.pdf_split/503855.pdf'), '505588': PosixPath('/Users/aciuffo/Documents/src/pyPDF_split/data/UE_Semester2_ReportCard_2019-2020_Gr3.pdf_split/505588.pdf'), '504114': PosixPath('/Users/aciuffo/Documents/src/pyPDF_split/data/UE_Semester2_ReportCard_2019-2020_Gr3.pdf_split/504114.pdf'), '505343': PosixPath('/Users/aciuffo/Documents/src/pyPDF_split/data/UE_Semester2_ReportCard_2019-2020_Gr3.pdf_split/505343.pdf'), '504755': PosixPath('/Users/aciuffo/Documents/src/pyPDF_split/data/UE_Semester2_ReportCard_2019-2020_Gr3.pdf_split/504755.pdf'), '505346': PosixPath('/Users/aciuffo/Documents/src/pyPDF_split/data/UE_Semester2_ReportCard_2019-2020_Gr3.pdf_split/505346.pdf'), '504144': PosixPath('/Users/aciuffo/Documents/src/pyPDF_split/data/UE_Semester2_ReportCard_2019-2020_Gr3.pdf_split/504144.pdf'), '503993': PosixPath('/Users/aciuffo/Documents/src/pyPDF_split/data/UE_Semester2_ReportCard_2019-2020_Gr3.pdf_split/503993.pdf'), '504661': PosixPath('/Users/aciuffo/Documents/src/pyPDF_split/data/UE_Semester2_ReportCard_2019-2020_Gr3.pdf_split/504661.pdf'), '505408': PosixPath('/Users/aciuffo/Documents/src/pyPDF_split/data/UE_Semester2_ReportCard_2019-2020_Gr3.pdf_split/505408.pdf'), '505535': PosixPath('/Users/aciuffo/Documents/src/pyPDF_split/data/UE_Semester2_ReportCard_2019-2020_Gr3.pdf_split/505535.pdf'), '505347': PosixPath('/Users/aciuffo/Documents/src/pyPDF_split/data/UE_Semester2_ReportCard_2019-2020_Gr3.pdf_split/505347.pdf'), '504437': PosixPath('/Users/aciuffo/Documents/src/pyPDF_split/data/UE_Semester2_ReportCard_2019-2020_Gr3.pdf_split/504437.pdf'), '505229': PosixPath('/Users/aciuffo/Documents/src/pyPDF_split/data/UE_Semester2_ReportCard_2019-2020_Gr3.pdf_split/505229.pdf'), '504601': PosixPath('/Users/aciuffo/Documents/src/pyPDF_split/data/UE_Semester2_ReportCard_2019-2020_Gr3.pdf_split/504601.pdf'), '503866': PosixPath('/Users/aciuffo/Documents/src/pyPDF_split/data/UE_Semester2_ReportCard_2019-2020_Gr3.pdf_split/503866.pdf'), '504108': PosixPath('/Users/aciuffo/Documents/src/pyPDF_split/data/UE_Semester2_ReportCard_2019-2020_Gr3.pdf_split/504108.pdf'), '504951': PosixPath('/Users/aciuffo/Documents/src/pyPDF_split/data/UE_Semester2_ReportCard_2019-2020_Gr3.pdf_split/504951.pdf'), '505088': PosixPath('/Users/aciuffo/Documents/src/pyPDF_split/data/UE_Semester2_ReportCard_2019-2020_Gr3.pdf_split/505088.pdf'), '504953': PosixPath('/Users/aciuffo/Documents/src/pyPDF_split/data/UE_Semester2_ReportCard_2019-2020_Gr3.pdf_split/504953.pdf'), '505602': PosixPath('/Users/aciuffo/Documents/src/pyPDF_split/data/UE_Semester2_ReportCard_2019-2020_Gr3.pdf_split/505602.pdf'), '505549': PosixPath('/Users/aciuffo/Documents/src/pyPDF_split/data/UE_Semester2_ReportCard_2019-2020_Gr3.pdf_split/505549.pdf'), '504674': PosixPath('/Users/aciuffo/Documents/src/pyPDF_split/data/UE_Semester2_ReportCard_2019-2020_Gr3.pdf_split/504674.pdf'), '504381': PosixPath('/Users/aciuffo/Documents/src/pyPDF_split/data/UE_Semester2_ReportCard_2019-2020_Gr3.pdf_split/504381.pdf'), '504784': PosixPath('/Users/aciuffo/Documents/src/pyPDF_split/data/UE_Semester2_ReportCard_2019-2020_Gr3.pdf_split/504784.pdf'), '504382': PosixPath('/Users/aciuffo/Documents/src/pyPDF_split/data/UE_Semester2_ReportCard_2019-2020_Gr3.pdf_split/504382.pdf'), '504783': PosixPath('/Users/aciuffo/Documents/src/pyPDF_split/data/UE_Semester2_ReportCard_2019-2020_Gr3.pdf_split/504783.pdf'), '504080': PosixPath('/Users/aciuffo/Documents/src/pyPDF_split/data/UE_Semester2_ReportCard_2019-2020_Gr3.pdf_split/504080.pdf'), '505582': PosixPath('/Users/aciuffo/Documents/src/pyPDF_split/data/UE_Semester2_ReportCard_2019-2020_Gr3.pdf_split/505582.pdf'), '505533': PosixPath('/Users/aciuffo/Documents/src/pyPDF_split/data/UE_Semester2_ReportCard_2019-2020_Gr3.pdf_split/505533.pdf'), '503995': PosixPath('/Users/aciuffo/Documents/src/pyPDF_split/data/UE_Semester2_ReportCard_2019-2020_Gr3.pdf_split/503995.pdf'), '503996': PosixPath('/Users/aciuffo/Documents/src/pyPDF_split/data/UE_Semester2_ReportCard_2019-2020_Gr3.pdf_split/503996.pdf'), '503997': PosixPath('/Users/aciuffo/Documents/src/pyPDF_split/data/UE_Semester2_ReportCard_2019-2020_Gr3.pdf_split/503997.pdf'), '503524': PosixPath('/Users/aciuffo/Documents/src/pyPDF_split/data/UE_Semester2_ReportCard_2019-2020_Gr3.pdf_split/503524.pdf'), '505478': PosixPath('/Users/aciuffo/Documents/src/pyPDF_split/data/UE_Semester2_ReportCard_2019-2020_Gr3.pdf_split/505478.pdf'), '504124': PosixPath('/Users/aciuffo/Documents/src/pyPDF_split/data/UE_Semester2_ReportCard_2019-2020_Gr3.pdf_split/504124.pdf'), '504383': PosixPath('/Users/aciuffo/Documents/src/pyPDF_split/data/UE_Semester2_ReportCard_2019-2020_Gr3.pdf_split/504383.pdf'), '503520': PosixPath('/Users/aciuffo/Documents/src/pyPDF_split/data/UE_Semester2_ReportCard_2019-2020_Gr3.pdf_split/503520.pdf'), '504384': PosixPath('/Users/aciuffo/Documents/src/pyPDF_split/data/UE_Semester2_ReportCard_2019-2020_Gr3.pdf_split/504384.pdf'), '504766': PosixPath('/Users/aciuffo/Documents/src/pyPDF_split/data/UE_Semester2_ReportCard_2019-2020_Gr3.pdf_split/504766.pdf'), '503757': PosixPath('/Users/aciuffo/Documents/src/pyPDF_split/data/UE_Semester2_ReportCard_2019-2020_Gr3.pdf_split/503757.pdf'), '503756': PosixPath('/Users/aciuffo/Documents/src/pyPDF_split/data/UE_Semester2_ReportCard_2019-2020_Gr3.pdf_split/503756.pdf'), '503841': PosixPath('/Users/aciuffo/Documents/src/pyPDF_split/data/UE_Semester2_ReportCard_2019-2020_Gr3.pdf_split/503841.pdf'), '504693': PosixPath('/Users/aciuffo/Documents/src/pyPDF_split/data/UE_Semester2_ReportCard_2019-2020_Gr3.pdf_split/504693.pdf'), '504990': PosixPath('/Users/aciuffo/Documents/src/pyPDF_split/data/UE_Semester2_ReportCard_2019-2020_Gr3.pdf_split/504990.pdf'), '503840': PosixPath('/Users/aciuffo/Documents/src/pyPDF_split/data/UE_Semester2_ReportCard_2019-2020_Gr3.pdf_split/503840.pdf'), '505090': PosixPath('/Users/aciuffo/Documents/src/pyPDF_split/data/UE_Semester2_ReportCard_2019-2020_Gr3.pdf_split/505090.pdf'), '504694': PosixPath('/Users/aciuffo/Documents/src/pyPDF_split/data/UE_Semester2_ReportCard_2019-2020_Gr3.pdf_split/504694.pdf'), '504789': PosixPath('/Users/aciuffo/Documents/src/pyPDF_split/data/UE_Semester2_ReportCard_2019-2020_Gr3.pdf_split/504789.pdf'), '505353': PosixPath('/Users/aciuffo/Documents/src/pyPDF_split/data/UE_Semester2_ReportCard_2019-2020_Gr3.pdf_split/505353.pdf'), '505354': PosixPath('/Users/aciuffo/Documents/src/pyPDF_split/data/UE_Semester2_ReportCard_2019-2020_Gr3.pdf_split/505354.pdf'), '505355': PosixPath('/Users/aciuffo/Documents/src/pyPDF_split/data/UE_Semester2_ReportCard_2019-2020_Gr3.pdf_split/505355.pdf'), '505357': PosixPath('/Users/aciuffo/Documents/src/pyPDF_split/data/UE_Semester2_ReportCard_2019-2020_Gr3.pdf_split/505357.pdf'), '504156': PosixPath('/Users/aciuffo/Documents/src/pyPDF_split/data/UE_Semester2_ReportCard_2019-2020_Gr3.pdf_split/504156.pdf'), '504993': PosixPath('/Users/aciuffo/Documents/src/pyPDF_split/data/UE_Semester2_ReportCard_2019-2020_Gr3.pdf_split/504993.pdf'), '505219': PosixPath('/Users/aciuffo/Documents/src/pyPDF_split/data/UE_Semester2_ReportCard_2019-2020_Gr3.pdf_split/505219.pdf'), '504772': PosixPath('/Users/aciuffo/Documents/src/pyPDF_split/data/UE_Semester2_ReportCard_2019-2020_Gr3.pdf_split/504772.pdf'), '503528': PosixPath('/Users/aciuffo/Documents/src/pyPDF_split/data/UE_Semester2_ReportCard_2019-2020_Gr3.pdf_split/503528.pdf'), '504995': PosixPath('/Users/aciuffo/Documents/src/pyPDF_split/data/UE_Semester2_ReportCard_2019-2020_Gr3.pdf_split/504995.pdf'), '504153': PosixPath('/Users/aciuffo/Documents/src/pyPDF_split/data/UE_Semester2_ReportCard_2019-2020_Gr3.pdf_split/504153.pdf'), '503839': PosixPath('/Users/aciuffo/Documents/src/pyPDF_split/data/UE_Semester2_ReportCard_2019-2020_Gr3.pdf_split/503839.pdf'), '504388': PosixPath('/Users/aciuffo/Documents/src/pyPDF_split/data/UE_Semester2_ReportCard_2019-2020_Gr3.pdf_split/504388.pdf'), '503536': PosixPath('/Users/aciuffo/Documents/src/pyPDF_split/data/UE_Semester2_ReportCard_2019-2020_Gr3.pdf_split/503536.pdf'), '503609': PosixPath('/Users/aciuffo/Documents/src/pyPDF_split/data/UE_Semester2_ReportCard_2019-2020_Gr3.pdf_split/503609.pdf'), '504719': PosixPath('/Users/aciuffo/Documents/src/pyPDF_split/data/UE_Semester2_ReportCard_2019-2020_Gr3.pdf_split/504719.pdf'), '504998': PosixPath('/Users/aciuffo/Documents/src/pyPDF_split/data/UE_Semester2_ReportCard_2019-2020_Gr3.pdf_split/504998.pdf'), '505499': PosixPath('/Users/aciuffo/Documents/src/pyPDF_split/data/UE_Semester2_ReportCard_2019-2020_Gr3.pdf_split/505499.pdf'), '504770': PosixPath('/Users/aciuffo/Documents/src/pyPDF_split/data/UE_Semester2_ReportCard_2019-2020_Gr3.pdf_split/504770.pdf'), '504728': PosixPath('/Users/aciuffo/Documents/src/pyPDF_split/data/UE_Semester2_ReportCard_2019-2020_Gr3.pdf_split/504728.pdf'), '504730': PosixPath('/Users/aciuffo/Documents/src/pyPDF_split/data/UE_Semester2_ReportCard_2019-2020_Gr3.pdf_split/504730.pdf'), '505080': PosixPath('/Users/aciuffo/Documents/src/pyPDF_split/data/UE_Semester2_ReportCard_2019-2020_Gr3.pdf_split/505080.pdf')}\n"
     ]
    },
    {
     "name": "stderr",
     "output_type": "stream",
     "text": [
      "DEBUG:root:fname returned: None\n",
      "INFO:root:user canceled\n"
     ]
    }
   ],
   "source": [
    "if __name__ == \"__main__\":\n",
    "    main()"
   ]
  },
  {
   "cell_type": "code",
   "execution_count": null,
   "metadata": {},
   "outputs": [],
   "source": [
    "'-f' in sys.argv"
   ]
  },
  {
   "cell_type": "code",
   "execution_count": null,
   "metadata": {},
   "outputs": [],
   "source": [
    "sys.argv"
   ]
  }
 ],
 "metadata": {
  "kernelspec": {
   "display_name": "pyPDF_split-4UQABClw",
   "language": "python",
   "name": "pypdf_split-4uqabclw"
  },
  "language_info": {
   "codemirror_mode": {
    "name": "ipython",
    "version": 3
   },
   "file_extension": ".py",
   "mimetype": "text/x-python",
   "name": "python",
   "nbconvert_exporter": "python",
   "pygments_lexer": "ipython3",
   "version": "3.8.5"
  }
 },
 "nbformat": 4,
 "nbformat_minor": 4
}
