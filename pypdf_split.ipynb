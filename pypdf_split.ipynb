{
 "cells": [
  {
   "cell_type": "code",
   "execution_count": 46,
   "metadata": {},
   "outputs": [],
   "source": [
    "import PyPDF2\n",
    "from pathlib import Path\n",
    "import re"
   ]
  },
  {
   "cell_type": "code",
   "execution_count": 47,
   "metadata": {},
   "outputs": [
    {
     "name": "stdout",
     "output_type": "stream",
     "text": [
      "[{'id': None, 'pages': []}, {'id': '504637', 'pages': [0, 1, 2, 3, 4, 5]}, {'id': '505342', 'pages': [6, 7, 8, 9, 10, 11]}, {'id': '504641', 'pages': [12, 13, 14, 15, 16, 17]}, {'id': '504645', 'pages': [18, 19, 20, 21, 22, 23]}, {'id': '503967', 'pages': [24, 25, 26, 27, 28, 29]}, {'id': '505523', 'pages': [30, 31, 32, 33, 34, 35]}, {'id': '504390', 'pages': [36, 37, 38, 39, 40, 41]}, {'id': '505505', 'pages': [42, 43, 44, 45, 46, 47]}, {'id': '505206', 'pages': [48, 49, 50, 51, 52, 53]}, {'id': '505467', 'pages': [54, 55, 56, 57, 58, 59]}, {'id': '503969', 'pages': [60, 61, 62, 63, 64, 65]}, {'id': '503970', 'pages': [66, 67, 68, 69, 70, 71]}, {'id': '504869', 'pages': [72, 73, 74, 75, 76, 77]}, {'id': '505345', 'pages': [78, 79, 80, 81, 82, 83]}, {'id': '504732', 'pages': [84, 85, 86, 87, 88, 89]}, {'id': '505233', 'pages': [90, 91, 92, 93, 94, 95]}, {'id': '504944', 'pages': [96, 97, 98, 99, 100, 101]}, {'id': '503971', 'pages': [102, 103, 104, 105, 106, 107]}, {'id': '504744', 'pages': [108, 109, 110, 111, 112, 113]}, {'id': '505348', 'pages': [114, 115, 116, 117, 118, 119]}, {'id': '504948', 'pages': [120, 121, 122, 123, 124, 125]}, {'id': '504158', 'pages': [126, 127, 128, 129, 130, 131]}, {'id': '504663', 'pages': [132, 133, 134, 135, 136, 137]}, {'id': '505349', 'pages': [138, 139, 140, 141, 142, 143]}, {'id': '505473', 'pages': [144, 145, 146, 147, 148, 149]}, {'id': '504706', 'pages': [150, 151, 152, 153, 154, 155]}, {'id': '505474', 'pages': [156, 157, 158, 159, 160, 161]}, {'id': '505238', 'pages': [162, 163, 164, 165, 166, 167]}, {'id': '504753', 'pages': [168, 169, 170, 171, 172, 173]}, {'id': '503973', 'pages': [174, 175, 176, 177, 178, 179]}, {'id': '505409', 'pages': [180, 181, 182, 183, 184, 185]}, {'id': '505262', 'pages': [186, 187, 188, 189, 190, 191]}, {'id': '504965', 'pages': [192, 193, 194, 195, 196, 197]}, {'id': '505524', 'pages': [198, 199, 200, 201, 202, 203]}, {'id': '504975', 'pages': [204, 205, 206, 207, 208, 209]}, {'id': '503981', 'pages': [210, 211, 212, 213, 214, 215]}, {'id': '504405', 'pages': [216, 217, 218, 219, 220, 221]}, {'id': '504686', 'pages': [222, 223, 224, 225, 226, 227]}, {'id': '504581', 'pages': [228, 229, 230, 231, 232, 233]}, {'id': '504752', 'pages': [234, 235, 236, 237, 238, 239]}, {'id': '504690', 'pages': [240, 241, 242, 243, 244, 245]}, {'id': '505351', 'pages': [246, 247, 248, 249, 250, 251]}, {'id': '505531', 'pages': [252, 253, 254, 255, 256, 257]}, {'id': '503867', 'pages': [258, 259, 260, 261, 262, 263]}, {'id': '504573', 'pages': [264, 265, 266, 267, 268, 269]}, {'id': '503607', 'pages': [270, 271, 272, 273, 274, 275]}, {'id': '503985', 'pages': [276, 277, 278, 279, 280, 281]}, {'id': '505266', 'pages': [282, 283, 284, 285, 286, 287]}, {'id': '503986', 'pages': [288, 289, 290, 291, 292, 293]}, {'id': '504393', 'pages': [294, 295, 296, 297, 298, 299]}, {'id': '505356', 'pages': [300, 301, 302, 303, 304, 305]}, {'id': '505202', 'pages': [306, 307, 308, 309, 310, 311]}, {'id': '504394', 'pages': [312, 313, 314, 315, 316, 317]}, {'id': '505358', 'pages': [318, 319, 320, 321, 322, 323]}, {'id': '504708', 'pages': [324, 325, 326, 327, 328, 329]}, {'id': '504469', 'pages': [330, 331, 332, 333, 334, 335]}, {'id': '504470', 'pages': [336, 337, 338, 339, 340, 341]}, {'id': '504717', 'pages': [342, 343, 344, 345, 346, 347]}, {'id': '505500', 'pages': [348, 349, 350, 351, 352, 353]}, {'id': '503860', 'pages': [354, 355, 356, 357, 358, 359]}, {'id': '503861', 'pages': [360, 361, 362, 363, 364, 365]}, {'id': '504785', 'pages': [366, 367, 368, 369, 370, 371]}, {'id': '505076', 'pages': [372, 373, 374, 375, 376, 377]}, {'id': '504725', 'pages': [378, 379, 380, 381, 382, 383]}, {'id': '503988', 'pages': [384, 385, 386, 387, 388, 389]}]\n"
     ]
    }
   ],
   "source": [
    "f = \"./data/RC_Gr2_S1_2019-20.pdf\"\n",
    "pdf = PyPDF2.PdfFileReader(f, False)\n",
    "breaks = []\n",
    "last_record = {'id': None, 'pages': []}\n",
    "for p in range(0, pdf.numPages):\n",
    "    this_record = {'id': None, 'pages': []}\n",
    "    text = pdf.getPage(p).extractText()\n",
    "    match = re.search('student\\W?id:\\W?(\\d{5,})', text, re.IGNORECASE)\n",
    "    name = re.search('^student:\\W(.*)$', text, re.IGNORECASE)\n",
    "    if match:\n",
    "        breaks.append(last_record)\n",
    "        this_record['id'] = match.group(1)\n",
    "        this_record['pages'].append(p)\n",
    "        last_record = this_record\n",
    "    else:\n",
    "        last_record['pages'].append(p)\n",
    "print(breaks)"
   ]
  },
  {
   "cell_type": "code",
   "execution_count": 48,
   "metadata": {},
   "outputs": [],
   "source": [
    "page = pdf.getPage(1)"
   ]
  },
  {
   "cell_type": "code",
   "execution_count": 70,
   "metadata": {},
   "outputs": [],
   "source": [
    "text = pdf.getPage(1).extractText()"
   ]
  },
  {
   "cell_type": "code",
   "execution_count": 71,
   "metadata": {},
   "outputs": [
    {
     "data": {
      "text/plain": [
       "'2019-2020  School YearYousif AlanaziReport Card Grade 2Page number: 2Counting: Knows number names and the count sequence. Compares numbers.Numbers in Base Ten: Uses place value understanding and properties of operations to addand subtract.Operations and Algebraic Thinking: Understands addition and subtraction.Measurement and Data: Understands measurement: length, time, and data.Geometry: Analyzes, compares, creates, and composes shapes.Mathematical Practices: Exhibits habits of mind of a productive mathematical thinker.S S S S NA S MATHSemester 1Semester 2Reading: Reads closely to determine what the text says explicitly and makes logicalinferences from it; cites specific textual evidence when writing or speaking to supportconclusions drawn from the text.Reading: Determines central ideas or themes of a text and analyzes theirdevelopment; summarizes the key supporting details and ideas.Reading: Analyzes how and why individuals, events, and ideas develop and interactover the course of a text.Reading: Reads and comprehends complex literary and informational texts independently and proficiently.Reading: Reads with sufficient accuracy and fluency to support comprehension.Writing: Produces clear and coherent writing in which the development, organization, and style are appropriate to task, purpose, and audience.Writing: Develops and strengthens writing as needed by planning, revising, editing,rewriting, or trying a new approach.Listening & Speaking: Prepares for and participates effectively in a range of conversations and collaborations with diverse partners, building on othersÕ ideas and expressing their own clearly and persuasively. D D D D D LANGUAGE ARTSSemester 1Semester 2D D D Language Foundations: Demonstrates command of the conventions of standardEnglish capitalization, punctuation, spelling, and grammar when writing and speaking.D '"
      ]
     },
     "execution_count": 71,
     "metadata": {},
     "output_type": "execute_result"
    }
   ],
   "source": [
    "text"
   ]
  },
  {
   "cell_type": "code",
   "execution_count": 64,
   "metadata": {},
   "outputs": [
    {
     "data": {
      "text/plain": [
       "'Student: Yousif Alanazi2019-2020  School YearHomeroom Teacher: Marantos, KimReport Card - Grade 2Rijksstraatweg 200 2241 BX Wassenaar The Netherlands Telephone 070 - 512 1060 Telefax 070 - 511 24 00 www.ash.nlStudentID:504637Date: January 28, 2020Elementary School Principal: Tim MessickKEYB = Beginning Student performance is beginning to progress toward grade level expectations. Student requires consistentsupport or additional time to demonstrate skills and understanding of concepts and/or procedures.D = Developing Student performance is developing steadily toward grade level expectations. Student exhibits someindependence and may require occasional support or additional time to demonstrate skills and understanding of concepts and/orprocedures.S = Secure Student performance is secure and meets grade level expectations. Student independently demonstrates skills and anunderstanding of concepts and/or procedures. NA = Not Assessed Standard was not assessed this semester.Regulates own emotions and behaviors.Establishes and sustains positive relationships.Participates cooperatively and constructively in group situations.Demonstrates positive approaches to learning.Remembers and connects experiences.D D S S D Social EmotionalSemester 1Semester 2Approaches to LearningSemester 1Semester 2Additional ProgramsEnglish as an Additional LanguageX Learning Support Speech & Language Occupational Therapy Times Tardy00Days Absent00AttendanceSemester 1Semester 2'"
      ]
     },
     "execution_count": 64,
     "metadata": {},
     "output_type": "execute_result"
    }
   ],
   "source": [
    "m = re.search('student:\\s?(.*)', text, re.IGNORECASE)\n",
    "text"
   ]
  }
 ],
 "metadata": {
  "kernelspec": {
   "display_name": "pyPDF-OZ07WWTJ",
   "language": "python",
   "name": "pypdf-oz07wwtj"
  },
  "language_info": {
   "codemirror_mode": {
    "name": "ipython",
    "version": 3
   },
   "file_extension": ".py",
   "mimetype": "text/x-python",
   "name": "python",
   "nbconvert_exporter": "python",
   "pygments_lexer": "ipython3",
   "version": "3.8.5"
  }
 },
 "nbformat": 4,
 "nbformat_minor": 4
}
