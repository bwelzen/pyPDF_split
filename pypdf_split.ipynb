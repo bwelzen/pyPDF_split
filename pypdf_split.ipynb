{
 "cells": [
  {
   "cell_type": "code",
   "execution_count": 79,
   "metadata": {},
   "outputs": [],
   "source": [
    "import PyPDF2\n",
    "import PySimpleGUI as sg\n",
    "from pathlib import Path\n",
    "import logging\n",
    "import re\n",
    "import sys, getopt\n"
   ]
  },
  {
   "cell_type": "markdown",
   "metadata": {},
   "source": [
    "# TO DO\n",
    "* [x] wrap **everything** in a `try`\n",
    "* [ ] add gui\n",
    "* [ ] test against MAP results\n",
    "* [x] add original filename to output\n",
    "* [ ] pyinstaller"
   ]
  },
  {
   "cell_type": "code",
   "execution_count": 19,
   "metadata": {},
   "outputs": [],
   "source": [
    "def get_breaks(file):\n",
    "    file = Path(file).expanduser().absolute()\n",
    "    \n",
    "    try:\n",
    "        source_pdf = PyPDF2.PdfFileReader(str(file), False)\n",
    "    except (FileNotFoundError, PyPDF2.utils.PdfReadError, IsADirectoryError) as e:\n",
    "        logging.error(f'Failed to read source pdf: {e}')\n",
    "        return []\n",
    "    \n",
    "    page_breaks = []\n",
    "    \n",
    "    last_record = {'id': None, 'pages': []}\n",
    "    \n",
    "    for page in range(0, source_pdf.numPages):\n",
    "        this_record = ({'id': None, 'pages': []})\n",
    "        text = source_pdf.getPage(page).extractText()\n",
    "        student_number = re.search('student\\W?id:\\W?(\\d{5,})', text, re.IGNORECASE)\n",
    "        \n",
    "        if student_number:\n",
    "            page_breaks.append(last_record)\n",
    "            this_record['id'] = student_number.group(1)\n",
    "            this_record['pages'].append(page)\n",
    "            last_record = this_record\n",
    "            \n",
    "        else:\n",
    "            last_record['pages'].append(page)\n",
    "            \n",
    "    return page_breaks\n",
    "            \n",
    "        "
   ]
  },
  {
   "cell_type": "code",
   "execution_count": null,
   "metadata": {},
   "outputs": [],
   "source": []
  },
  {
   "cell_type": "code",
   "execution_count": 55,
   "metadata": {},
   "outputs": [],
   "source": [
    "def split_pdf(file, page_breaks):\n",
    "    file = Path(file).expanduser().absolute()\n",
    "    dest_path = file.parent/f'{file.name}_split'\n",
    "    \n",
    "    output = []\n",
    "    \n",
    "    try:\n",
    "        source_pdf = PyPDF2.PdfFileReader(str(file))\n",
    "    except (FileNotFoundError, PyPDF2.utils.PdfReadError, IsADirectoryError) as e:\n",
    "        logging.error(f'Failed to split source pdf: {e}')\n",
    "        return False\n",
    "    \n",
    "    for record in page_breaks:\n",
    "        if not record['id']:\n",
    "            continue\n",
    "        pdf_writer = PyPDF2.PdfFileWriter()\n",
    "        for page in record['pages']:\n",
    "            pdf_writer.addPage(source_pdf.getPage(page))\n",
    "        \n",
    "        try:\n",
    "            output_path = dest_path/f'{record[\"id\"]}.pdf'\n",
    "            output_path.parent.mkdir(exist_ok=True)\n",
    "            with open(str(output_path), \"wb\") as dest_file:\n",
    "                pdf_writer.write(dest_file)\n",
    "            output.append(output_path)\n",
    "        except Exception as e:\n",
    "            logging.error(f'error outputing pdf: {e}')\n",
    "            pass\n",
    "        \n",
    "    return output\n",
    "    "
   ]
  },
  {
   "cell_type": "code",
   "execution_count": 78,
   "metadata": {},
   "outputs": [
    {
     "name": "stdout",
     "output_type": "stream",
     "text": [
      "interactive\n"
     ]
    }
   ],
   "source": [
    "def main():\n",
    "    \n",
    "    interactive = False\n",
    "    \n",
    "    if (len(sys.argv) == 1) or ('-f' in sys.argv):\n",
    "        interactive = True\n",
    "        fname = sg.popup_get_file('Choose a PDF to split')\n",
    "    else:\n",
    "        fname = sys.argv[1]\n",
    "\n",
    "    while True:\n",
    "        if not fname and interactive:\n",
    "            sg.popup('Cancel', \"No PDF supplied\")\n",
    "        else:\n",
    "            \n",
    "        \n"
   ]
  },
  {
   "cell_type": "code",
   "execution_count": 76,
   "metadata": {},
   "outputs": [
    {
     "name": "stdout",
     "output_type": "stream",
     "text": [
      "interactive\n"
     ]
    }
   ],
   "source": [
    "if __name__ == \"__main__\":\n",
    "    main()"
   ]
  },
  {
   "cell_type": "code",
   "execution_count": 71,
   "metadata": {},
   "outputs": [
    {
     "data": {
      "text/plain": [
       "True"
      ]
     },
     "execution_count": 71,
     "metadata": {},
     "output_type": "execute_result"
    }
   ],
   "source": [
    "'-f' in sys.argv"
   ]
  },
  {
   "cell_type": "code",
   "execution_count": 60,
   "metadata": {},
   "outputs": [
    {
     "data": {
      "text/plain": [
       "['/Users/aaronciuffo/.local/share/virtualenvs/pyPDF_split-aG0Oa909/lib/python3.8/site-packages/ipykernel_launcher.py',\n",
       " '-f',\n",
       " '/Users/aaronciuffo/Library/Jupyter/runtime/kernel-5fb7074d-9a0b-4d17-b091-7941fcd2de2a.json']"
      ]
     },
     "execution_count": 60,
     "metadata": {},
     "output_type": "execute_result"
    }
   ],
   "source": [
    "sys.argv"
   ]
  }
 ],
 "metadata": {
  "kernelspec": {
   "display_name": "pyPDF_split-4UQABClw",
   "language": "python",
   "name": "pypdf_split-4uqabclw"
  },
  "language_info": {
   "codemirror_mode": {
    "name": "ipython",
    "version": 3
   },
   "file_extension": ".py",
   "mimetype": "text/x-python",
   "name": "python",
   "nbconvert_exporter": "python",
   "pygments_lexer": "ipython3",
   "version": "3.8.5"
  }
 },
 "nbformat": 4,
 "nbformat_minor": 4
}
