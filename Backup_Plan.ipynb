{
 "cells": [
  {
   "cell_type": "markdown",
   "id": "headed-director",
   "metadata": {},
   "source": [
    "# Backup Plan for PyPDFSplit\n",
    "If the PyPDFSplit application is not work or is not available, it is possible to split PDF files such as report cards using Adobe Acrobat.\n",
    "\n",
    "## Setup\n",
    "You will need the following\n",
    "* Adobe Acrobat (installed on most ASH computers)\n",
    "* Report Card file produced by Grade level (e.g. 2020 S1 G2.pdf) on your computer\n",
    "\n",
    "## Procedure\n",
    "This process will allow you to use the top-level bookmarks in each PDF to split the report into individual reports\n",
    "Watch this [short video](https://drive.google.com/file/d/1cnczJOoZiXvS8-2Xsebxicv6VOo1yFYy/view?usp=sharing) for a step-by step guide.\n",
    "\n",
    "1. Open Adobe Acrobat\n",
    "2. Open the PDF you wish to split\n",
    "3. From the *Tools* menu choose *Organize Pages*\n",
    "4. On the Organize Pages screen click the scisors icon to begin splitting\n",
    "5. In the *Split by* menu choose *Top level bookmarks* from the drop-down menu\n",
    "6. Click *Outpt Options* and choose the following:\n",
    "    * *Target Folder* > \"A Folder on My Computer\"\n",
    "        - Click the \"Choose...\" button to select or create an output folder -- you may create a folder anywhere on your computer\n",
    "    * *File Labeling* > \"Use bookmark names for filenames\"\n",
    "7. Click *Ok* to close this menu\n",
    "8. Click *Split* to split the PDF\n",
    "    * Split PDFs will appear in the folder you choose. These can be inserted manually into Student Cumulative folders\n"
   ]
  },
  {
   "cell_type": "code",
   "execution_count": 1,
   "id": "communist-midnight",
   "metadata": {},
   "outputs": [
    {
     "name": "stdout",
     "output_type": "stream",
     "text": [
      "[NbConvertApp] Converting notebook Backup_Plan.ipynb to markdown\n",
      "[NbConvertApp] Writing 1181 bytes to Backup_Plan.md\n"
     ]
    }
   ],
   "source": [
    "!jupyter-nbconvert --to markdown Backup_Plan.ipynb\n"
   ]
  }
 ],
 "metadata": {
  "kernelspec": {
   "display_name": "Python 3",
   "language": "python",
   "name": "python3"
  },
  "language_info": {
   "codemirror_mode": {
    "name": "ipython",
    "version": 3
   },
   "file_extension": ".py",
   "mimetype": "text/x-python",
   "name": "python",
   "nbconvert_exporter": "python",
   "pygments_lexer": "ipython3",
   "version": "3.9.1"
  }
 },
 "nbformat": 4,
 "nbformat_minor": 5
}
